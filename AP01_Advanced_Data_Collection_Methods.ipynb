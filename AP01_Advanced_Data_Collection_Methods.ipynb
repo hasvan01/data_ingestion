{
 "cells": [
  {
   "cell_type": "markdown",
   "id": "4cf56921",
   "metadata": {},
   "source": [
    "# Arbeitspaket (AP) 1: Advanced Data Collection Methods"
   ]
  },
  {
   "cell_type": "markdown",
   "id": "0f7fb22f",
   "metadata": {},
   "source": [
    "### Persönliche Angaben (bitte ergänzen)"
   ]
  },
  {
   "cell_type": "markdown",
   "id": "94d35a25",
   "metadata": {},
   "source": [
    "<table>\n",
    "  <tr>\n",
    "    <td>Vorname:</td>\n",
    "    <td></td>\n",
    "  </tr>\n",
    "  <tr>\n",
    "    <td>Nachname:</td>\n",
    "    <td></td>\n",
    "  </tr>\n",
    "  <tr>\n",
    "    <td>Immatrikulationsnummer:</td>\n",
    "    <td></td>\n",
    "  </tr>\n",
    "  <tr>\n",
    "    <td>Modul:</td>\n",
    "    <td>Data Science</td>\n",
    "  </tr>\n",
    "  <tr>\n",
    "    <td>Prüfungsdatum / Raum / Zeit:</td>\n",
    "    <td>11.11.2024 / Raum: SF O3.54 / 8:00 – 11:45</td>\n",
    "  </tr>\n",
    "  <tr>\n",
    "    <td>Erlaubte Hilfsmittel:</td>\n",
    "    <td>w.MA.XX.DS.24HS (Data Science)<br>Open Book, Eigener Computer, Internet-Zugang</td>\n",
    "  </tr>\n",
    "  <tr>\n",
    "  <td>Nicht erlaubt:</td>\n",
    "  <td>Nicht erlaubt ist der Einsatz beliebiger Formen von generativer KI (z.B. Copilot, ChatGPT) <br> sowie beliebige Formen von Kommunikation oder Kollaboration mit anderen Menschen.</td>\n",
    "</tr>\n",
    "</table>"
   ]
  },
  {
   "cell_type": "markdown",
   "id": "61847f62",
   "metadata": {},
   "source": [
    "## Bewertungskriterien\n",
    "\n",
    "### <b style=\"color: gray;\">(max. erreichbare Punkte: 48)</b>\n",
    "\n",
    "<table>\n",
    "  <thead>\n",
    "    <tr>\n",
    "      <th>Kategorie</th>\n",
    "      <th>Beschreibung</th>\n",
    "      <th>Punkteverteilung</th>\n",
    "    </tr>\n",
    "  </thead>\n",
    "  <tbody>\n",
    "    <tr>\n",
    "      <td>Code nicht lauffähig oder Ergebnisse nicht sinnvoll</td>\n",
    "      <td>Der Code enthält Fehler, die verhindern, dass er ausgeführt werden kann (z.B. Syntaxfehler) oder es werden Ergebnisse ausgegeben, welche nicht zur Fragestellung passen.</td>\n",
    "      <td>0 Punkte</td>\n",
    "    </tr>\n",
    "    <tr>\n",
    "      <td>Code lauffähig, aber mit gravierenden Mängeln</td>\n",
    "      <td>Der Code läuft, aber die Ergebnisse sind aufgrund wesentlicher Fehler unvollständig (z.B. grundlegende Fehler beim Einlesen der Daten). Nur geringer Fortschritt erkennbar.</td>\n",
    "      <td>25% der max. erreichbaren Punkte</td>\n",
    "    </tr>\n",
    "    <tr>\n",
    "      <td>Code lauffähig, aber mit mittleren Mängeln</td>\n",
    "      <td>Der Code läuft und liefert teilweise korrekte Ergebnisse, aber es gibt grössere Fehler (z.B. die Datentypen der eingelesenen Daten entsprechen nicht den Anforderungen gemäss Fragestellung). Die Ergebnisse sind nachvollziehbar, aber unvollständig oder ungenau.</td>\n",
    "      <td>50% der max. erreichbaren Punkte</td>\n",
    "    </tr>\n",
    "    <tr>\n",
    "      <td>Code lauffähig, aber mit minimalen Mängeln</td>\n",
    "      <td>Der Code läuft und liefert ein weitgehend korrektes Ergebnis, aber kleinere Fehler (z.B. Spaltenname falsch geschrieben, TimeStamp nicht korrekt formatiert) beeinträchtigen die Vollständigkeit des Ergebnisses.</td>\n",
    "      <td>75% der max. erreichbaren Punkte</td>\n",
    "    </tr>\n",
    "    <tr>\n",
    "      <td>Code lauffähig und korrekt</td>\n",
    "      <td>Der Code läuft einwandfrei und liefert das korrekte Ergebnis ohne Mängel.</td>\n",
    "      <td>100% der max. erreichbaren Punkte</td>\n",
    "    </tr>\n",
    "  </tbody>\n",
    "</table>\n",
    "\n"
   ]
  },
  {
   "cell_type": "markdown",
   "id": "9b8df3dd",
   "metadata": {},
   "source": [
    "## Python Libraries und Settings"
   ]
  },
  {
   "cell_type": "code",
   "execution_count": null,
   "id": "b027d889",
   "metadata": {},
   "outputs": [],
   "source": [
    "# Libraries\n",
    "import os\n",
    "import re\n",
    "import json\n",
    "import requests\n",
    "import feedparser\n",
    "import pandas as pd\n",
    "import yfinance as yf\n",
    "from zipfile import ZipFile\n",
    "from bs4 import BeautifulSoup\n",
    "from datetime import datetime\n",
    "import matplotlib.pyplot as plt\n",
    "from wordcloud import WordCloud\n",
    "from pandas import json_normalize\n",
    "from lxml import html as lxml_html\n",
    "\n",
    "from pycoingecko import CoinGeckoAPI\n",
    "cg = CoinGeckoAPI()\n",
    "\n",
    "# Ignore warnings\n",
    "import warnings\n",
    "warnings.filterwarnings('ignore')\n",
    "\n",
    "# Show current working directory\n",
    "print(os.getcwd())"
   ]
  },
  {
   "cell_type": "markdown",
   "id": "aac9011e",
   "metadata": {},
   "source": [
    "## <b>Vorbereitung (Dieser Teil wird <u>nicht</u> bewertet!)</b>"
   ]
  },
  {
   "cell_type": "markdown",
   "id": "2e253f40",
   "metadata": {},
   "source": [
    "#### <b>1.) Starten Sie eine GitHub Codespaces Instanz auf Basis Ihres Forks des folgenden GitHub Repositories:</b>\n",
    "\n",
    "##### GitHub-Repository: https://github.com/mario-gellrich-zhaw/data_ingestion\n"
   ]
  },
  {
   "cell_type": "markdown",
   "id": "e5c27b72",
   "metadata": {},
   "source": [
    "## <b>Aufgaben (Dieser Teil wird bewertet!)</b>\n",
    "<b style=\"color:blue;\">Hinweise zu den folgenden Aufgabenstellungen:</b>\n",
    "<ul style=\"color:blue;\">\n",
    "  <li>Beachten Sie auch die zu jeder Aufgabenstellung zugehörenden Details zu Aufgabenstellung.</li>\n",
    "  <li>Lösen Sie jede Aufgabe mit Hilfe von Python Code. Integrieren Sie den Python Code in die Code-Zellen der jeweiligen Aufgabe.</li>\n",
    "  <li>Stellen Sie die Lösung(en) jeder Aufgabe ganz oder in Teilen (z.B. erste 5 Zeilen) eines DataFrames im Jupyter Notebook dar.</li>\n",
    "  <li>Wenn in den Aufgaben in Bezug auf das Datum vom 'aktuellen Tag' gesprochen wird, ist der Tag der Durchführung dieses Leistungsnachweises gemeint.</li>\n",
    "</ul>"
   ]
  },
  {
   "cell_type": "markdown",
   "id": "6033f466",
   "metadata": {},
   "source": [
    "#### <b>Aufgabe (1): Importieren Sie jedes der über den folgenden Codezellen angegebenen Files in ein eigenes pandas DataFrame.</b>\n",
    "<b>Details zur Aufgabenstellung:</b>\n",
    "- Sie finden die Files im Order 'Data'.\n",
    "- Berücksichtigen Sie die Ablage der Files beim Einlesen (z.B. Pfad zum Einlesen von 'BigmacPrice.csv' is: './Data/BigmacPrice.csv').\n",
    "- Zeigen Sie mit Hilfe eines geeigneten Python Befehls die Dimension des pandas DataFrames (Anzahl Zeilen und Spalten) im Jupyter Notebook an.\n",
    "- Stellen sie die erstellten DataFrames entweder ganz oder in Teilen (z.B. die ersten 5 Zeilen) im Jupyter Notebook dar.\n",
    "\n",
    "<b style=\"color: gray;\">(max. erreichbare Punkte: 4)</b>"
   ]
  },
  {
   "cell_type": "markdown",
   "id": "04401e27",
   "metadata": {},
   "source": [
    "#### Importieren von 'BigmacPrice.csv'"
   ]
  },
  {
   "cell_type": "code",
   "execution_count": null,
   "id": "fdfcb555",
   "metadata": {},
   "outputs": [],
   "source": [
    "# Import File 'BigmacPrice.csv' in ein Pandas DataFrame\n",
    "\n",
    "\n",
    "# Anzeigen der Anzahl Zeilen und Spalten im DataFrame\n",
    "\n",
    "\n",
    "# Anzeigen des DataFrames\n"
   ]
  },
  {
   "cell_type": "markdown",
   "id": "5ff885d5",
   "metadata": {},
   "source": [
    "#### Importieren von 'CarData.xml'"
   ]
  },
  {
   "cell_type": "code",
   "execution_count": null,
   "id": "07233c5f",
   "metadata": {},
   "outputs": [],
   "source": [
    "# Import File 'CarData.xml'\n",
    "\n",
    "\n",
    "# Anzeigen der Anzahl Zeilen und Spalten im DataFrame\n",
    "\n",
    "\n",
    "# Anzeigen des DataFrames\n"
   ]
  },
  {
   "cell_type": "markdown",
   "id": "7db3ccb5",
   "metadata": {},
   "source": [
    "#### Importieren von 'ChickenData.xlsx'"
   ]
  },
  {
   "cell_type": "code",
   "execution_count": null,
   "id": "988ae885",
   "metadata": {},
   "outputs": [],
   "source": [
    "# Import File 'ChickenData.xlsx'\n",
    "\n",
    "\n",
    "# Anzeigen der Anzahl Zeilen und Spalten im DataFrame\n",
    "\n",
    "\n",
    "# Anzeigen des DataFrames\n"
   ]
  },
  {
   "cell_type": "markdown",
   "id": "d8a905ee",
   "metadata": {},
   "source": [
    "#### Importieren von 'HotelData.json'"
   ]
  },
  {
   "cell_type": "code",
   "execution_count": null,
   "id": "7d2cfbb5",
   "metadata": {},
   "outputs": [],
   "source": [
    "# Import File 'HotelData.json'\n",
    "\n",
    "\n",
    "# Anzeigen der Anzahl Zeilen und Spalten im DataFrame\n",
    "\n",
    "\n",
    "# Anzeigen des DataFrames\n"
   ]
  },
  {
   "cell_type": "markdown",
   "id": "c31d4887",
   "metadata": {},
   "source": [
    "#### <b>Aufgabe (2): Extrahieren Sie aus dem File 'BookStore.html' die Preise der Bücher mit Hilfe eines geeigneten XPath.</b>\n",
    "<b>Details zur Aufgabenstellung:</b>\n",
    "- Sie finden das HTML-File 'BookStore.html' im Order 'Data'.\n",
    "- Komplettieren Sie für das Lösen der Aufgabe den unfertigen XPath im folgenden Python Code.\n",
    "- Beachten Sie, dass nur ein einziger XPath für das Extrahieren aller Preise notwendig ist.\n",
    "- Stellen Sie die extrahierten Preise im Jupyter Notebook dar.<br><br>\n",
    "- Tipp: Für das Testen des XPath können Sie diesen Online XPath-Tester verwenden: http://xpather.com\n",
    "\n",
    "<b style=\"color: gray;\">(max. erreichbare Punkte: 4)</b>"
   ]
  },
  {
   "cell_type": "code",
   "execution_count": null,
   "id": "93aad8fd",
   "metadata": {},
   "outputs": [],
   "source": [
    "# Import File 'BookStore.html'\n",
    "with open('./Data/BookStore.html', 'r', encoding='utf-8') as file:\n",
    "    html_content = file.read()\n",
    "\n",
    "# Parsen des HTML-Contents\n",
    "tree = lxml_html.fromstring(html_content)\n",
    "\n",
    "# XPath zum Extrahieren der Buchpreise (bitte dort wo im XPath '...' steht, komplettieren)\n",
    "try:\n",
    "    prices = tree.xpath('/html/body/div/.../p[2]/text()')\n",
    "except:\n",
    "    prices = [] # gibt eine leere Liste aus, falls der XPath nicht korrekt ist\n",
    "\n",
    "# Anzeigen der extrahierten Buchpreise\n",
    "print(\"Extracted Book Prices:\", prices)\n"
   ]
  },
  {
   "cell_type": "markdown",
   "id": "acc3fec8",
   "metadata": {},
   "source": [
    "#### <b>Aufgabe (3): Erstellen Sie ein pandas DataFrame mit den Daten aus der folgenden Tabelle (1), und speichern Sie dieses als XML-File ab.</b>\n",
    "<b>Details zur Aufgabenstellung:</b>\n",
    "- Speichern Sie das erstellte XML-File als 'SmartphoneData.xml' im Ordner 'Data'.\n",
    "- Stellen Sie das erstellte DataFrame im Jupyter Notebook dar.<br>\n",
    "\n",
    "Tipp: Beim Erstellen eines Dataframes wird typischerweise zuerst ein Python dictionary erstellt und dieses anschliessend in ein DataFrame umgewandelt.\n",
    "\n",
    "Tabelle (1): Smartphone Data\n",
    "\n",
    "| Marke       | Modell       | Baujahr | Farbe   | Preis   |\n",
    "|-------------|--------------|---------|---------|---------|\n",
    "| Apple       | iPhone 12    | 2020    | Schwarz | 799     |\n",
    "| Samsung     | Galaxy S21   | 2021    | Weiß    | 999     |\n",
    "| Google      | Pixel 5      | 2020    | Grün    | 699     |\n",
    "| OnePlus     | 8 Pro        | 2020    | Blau    | 899     |\n",
    "\n",
    "<b style=\"color: gray;\">(max. erreichbare Punkte: 4)</b>"
   ]
  },
  {
   "cell_type": "code",
   "execution_count": null,
   "id": "ed99968e",
   "metadata": {},
   "outputs": [],
   "source": [
    "# Erstellen des DataFrames aus der gegebenen Tabelle\n",
    "\n",
    "\n",
    "# Abspeichern des DataFrames als XML-Datei\n",
    "\n",
    "\n",
    "# Anzeigen des DataFrames\n"
   ]
  },
  {
   "cell_type": "markdown",
   "id": "2b80dc61",
   "metadata": {},
   "source": [
    "#### <b>Aufgabe (4): Erstellen Sie ein ZIP-File aus den folgenden genannten Files, und speichern Sie dieses im Order 'Data' ab.</b>\n",
    "<b>Details zur Aufgabenstellung:</b>\n",
    "- Verwenden Sie die folgenden Files aus dem Ordner 'Data' als Input für das ZIP-File:\n",
    "  - BigmacPrice.csv\n",
    "  - BookStore.html\n",
    "  - CarData.xml\n",
    "  - ChickenData.xlsx\n",
    "  - HotelData.json\n",
    "- Speichern Sie das ZIP-File als 'MyData.zip' im Ordner 'Data' ab.\n",
    "\n",
    "<b style=\"color: gray;\">(max. erreichbare Punkte: 4)</b>"
   ]
  },
  {
   "cell_type": "code",
   "execution_count": null,
   "id": "077a187d-05be-4c30-a367-a4e1a19d4466",
   "metadata": {},
   "outputs": [],
   "source": [
    "# Erstellen eines leeren Zip-Archivs\n",
    "\n",
    "\n",
    "# Hinzufügen der Dateien zum Zip-Archiv\n",
    "\n",
    "\n",
    "# Schliessen des Zip-Archivs\n",
    "\n"
   ]
  },
  {
   "cell_type": "markdown",
   "id": "1620f7aa",
   "metadata": {},
   "source": [
    "#### <b>Aufgabe (5): Beziehen Sie Daten zu Cryptowährungen mit Hilfe der Coingecko Web API.</b>\n",
    "<b>Details zur Aufgabenstellung:</b>\n",
    "- Verwenden Sie die folgenden Bezeichnungen (Ids) der Cryptowährungen für die Server-Anfragen: <b>binancecoin, cardano, polkadot, solana</b>.\n",
    "- Fragen Sie folgende Daten ab (Währung = EUR):\n",
    "  - Markkapitalisierung (include_market_cap='true')\n",
    "  - 24 Stunden Volumen (include_24hr_vol='true')\n",
    "  - 24 Stunden Veränderung (include_24hr_change='true')\n",
    "  - Datum des letzten Updates (include_last_updated_at='true')\n",
    "- Wandeln Sie die Daten in ein DataFrame um und stellen Sie dieses im Jupyter Notebook dar.<br><br>\n",
    "\n",
    "- Tipp: data = cg.get_price() speichert die Daten in ein Python dictionary. Dieses kann mit df = pd.DataFrame(data) in ein DataFrame umgewandelt werden.\n",
    "\n",
    "<b style=\"color: gray;\">(max. erreichbare Punkte: 8)</b>"
   ]
  },
  {
   "cell_type": "code",
   "execution_count": null,
   "id": "e7a62839",
   "metadata": {},
   "outputs": [],
   "source": [
    "# Beziehen der Daten mit Hilfe der Coingecko Web API\n",
    "\n",
    "\n",
    "# Speichern der Daten in einem pandas DataFrame\n",
    "\n",
    "\n",
    "# Anzeigen des DataFrames\n"
   ]
  },
  {
   "cell_type": "markdown",
   "id": "ba5b3943",
   "metadata": {},
   "source": [
    "#### <b>Aufgabe (6): Beziehen Sie Börsendaten zur Tesla-Aktie mit Hilfe der Yahoo-Finance Web API.</b>\n",
    "<b>Details zur Aufgabenstellung:</b>\n",
    "- Die Tesla Aktie hat das Kürzel TSLA.\n",
    "- Definieren Sie '2023-01-01' als Startdatum für die Abfrage der Börsendaten.\n",
    "- Verwenden Sie die Python Library 'datetime' für die Erstellung des Enddatums (aktueller Tag).\n",
    "- Speichern Sie die Börsendaten in einem pandas DataFrame ab.\n",
    "- Stellen Sie die Daten der fünf aktuellsten Börsentage im Jupyter Notebook dar.<br><br>\n",
    "\n",
    "- Hinweis: Die neusten Daten aus der Yahoo-Finance Web API sind jeweils vom Vortag.\n",
    "\n",
    "<b style=\"color: gray;\">(max. erreichbare Punkte: 8)</b>"
   ]
  },
  {
   "cell_type": "code",
   "execution_count": null,
   "id": "c2d69f01",
   "metadata": {},
   "outputs": [],
   "source": [
    "# Erstellen eines Datumsobjekts mit dem aktuellen Datum und der aktuellen Uhrzeit\n",
    " \n",
    "\n",
    "# Beziehen der Tesla Aktienkurse von Yahoo Finance\n",
    "\n",
    "\n",
    "# Anzeigen der Anzahl Zeilen und Spalten im DataFrame\n",
    "\n",
    "\n",
    "# Anzeigen des DataFrames mit den Daten der fünf aktuellsten Börsentage\n",
    "\n"
   ]
  },
  {
   "cell_type": "markdown",
   "id": "08bd20f4",
   "metadata": {},
   "source": [
    "#### <b>Aufgabe (7): Beziehen Sie mit Hilfe der Overpass Turbo Web API Daten zu den Tankstellen in der Schweiz.</b>\n",
    "<b>Details zur Aufgabenstellung:</b>\n",
    "- Tankstellen sind mit dem key:value Paar \"amenity\"=\"fuel\" in der OpenStreetMap Map-Feature Übersicht angegeben.\n",
    "- Speichern Sie die Daten in einem File 'petrol_station.json' im Order 'Data' ab.\n",
    "- Lesen Sie die Daten zusätzlich in ein pandas DataFrame und zeigen Sie dieses ganz oder in Teilen (z.B. erste 5 Zeilen) an.<br><br>\n",
    "- Tipp: Auf der Webseite: https://overpass-turbo.eu können Sie Overpass Turbo Abfragen testen.\n",
    "\n",
    "<b style=\"color: gray;\">(max. erreichbare Punkte: 8)</b>"
   ]
  },
  {
   "cell_type": "code",
   "execution_count": null,
   "id": "504ca399",
   "metadata": {},
   "outputs": [],
   "source": [
    "# Overpass API URL\n",
    "\n",
    "\n",
    "# Overpass turbo Abfrage-String\n",
    "\n",
    "\n",
    "# Web API Anfrage\n",
    "\n",
    "\n",
    "# Speichern der Daten in einer JSON-Datei\n",
    "\n",
    "\n",
    "# Speichern der Daten in einem Pandas DataFrame und Anzeigen des DataFrames\n"
   ]
  },
  {
   "cell_type": "markdown",
   "id": "d67e3225",
   "metadata": {},
   "source": [
    "#### <b>Aufgabe (8): Beziehen und Visualisieren Sie die aktuellen News-Feed (RSS-Feed) Daten der New York Times.</b>\n",
    "<b>Details zur Aufgabenstellung:</b>\n",
    "- Verwenden Sie diese URL zum RSS-Feed der New York Times Welt-Nachrichten: https://rss.nytimes.com/services/xml/rss/nyt/World.xml\n",
    "- Beziehen Sie die RSS-Feeds und extrahieren sie die Titel der Artikel aus den RSS-Feed Einträgen.\n",
    "- Zeigen Sie die Titel der RSS-Feed Einträge im Jupyter Notebook an.\n",
    "- Erstellen Sie eine Graphik mit einer Word-Cloud der Titel der RSS-Feed Einträge und stellen Sie diese im Jupyter Notebook dar.\n",
    "\n",
    "<b style=\"color: gray;\">(max. erreichbare Punkte: 8)</b>"
   ]
  },
  {
   "cell_type": "code",
   "execution_count": null,
   "id": "909478da",
   "metadata": {},
   "outputs": [],
   "source": [
    "# Parsen des RSS-News Feed von der New York Times World News Webseite\n",
    "\n",
    "\n",
    "# Extrahieren der RSS-Feed Einträge\n",
    "\n",
    "\n",
    "# Initialisieren des WordCloud-Texts\n",
    "\n",
    "\n",
    "# Loop für Anzeige des Artikel-Titels\n",
    "\n",
    "\n",
    "# Generieren der WordCloud\n",
    "\n",
    "\n",
    "# Anzeigen der WordCloud\n"
   ]
  },
  {
   "attachments": {},
   "cell_type": "markdown",
   "id": "ff525b1e",
   "metadata": {},
   "source": [
    "### Jupyter notebook --footer info-- (please always provide this at the end of each notebook)"
   ]
  },
  {
   "cell_type": "code",
   "execution_count": null,
   "id": "e6cae5b2",
   "metadata": {},
   "outputs": [],
   "source": [
    "import os\n",
    "import platform\n",
    "import socket\n",
    "from platform import python_version\n",
    "from datetime import datetime\n",
    "\n",
    "print('-----------------------------------')\n",
    "print(os.name.upper())\n",
    "print(platform.system(), '|', platform.release())\n",
    "print('Datetime:', datetime.now().strftime(\"%Y-%m-%d %H:%M:%S\"))\n",
    "print('Python Version:', python_version())\n",
    "print('IP Address:', socket.gethostbyname(socket.gethostname()))\n",
    "print('-----------------------------------')"
   ]
  }
 ],
 "metadata": {
  "kernelspec": {
   "display_name": "dsenv",
   "language": "python",
   "name": "python3"
  },
  "language_info": {
   "codemirror_mode": {
    "name": "ipython",
    "version": 3
   },
   "file_extension": ".py",
   "mimetype": "text/x-python",
   "name": "python",
   "nbconvert_exporter": "python",
   "pygments_lexer": "ipython3",
   "version": "3.12.4"
  }
 },
 "nbformat": 4,
 "nbformat_minor": 5
}
